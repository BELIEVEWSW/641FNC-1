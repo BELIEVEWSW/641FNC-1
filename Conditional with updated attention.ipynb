{
 "cells": [
  {
   "cell_type": "code",
   "execution_count": 1,
   "metadata": {},
   "outputs": [],
   "source": [
    "#!/usr/bin/env python\n",
    "# coding: utf-8\n",
    "\n",
    "\n",
    "# -*- coding: utf-8 -*-\n",
    "import os\n",
    "\n",
    "#os.environ[\"CUDA_DEVICE_ORDER\"] = \"PCI_BUS_ID\"\n",
    "#os.environ[\"CUDA_VISIBLE_DEVICES\"] = \"0\"\n",
    "\n",
    "import tensorflow as tf\n",
    "\n",
    "tf_config = tf.ConfigProto()\n",
    "tf_config.gpu_options.allow_growth = True\n",
    "sess = tf.Session(config=tf_config)"
   ]
  },
  {
   "cell_type": "code",
   "execution_count": 2,
   "metadata": {},
   "outputs": [
    {
     "name": "stderr",
     "output_type": "stream",
     "text": [
      "Using TensorFlow backend.\n"
     ]
    }
   ],
   "source": [
    "import keras\n",
    "import pandas as pd\n",
    "import numpy as np\n",
    "import math\n",
    "from sklearn.model_selection import train_test_split\n",
    "from nltk.tokenize import word_tokenize\n",
    "from keras.preprocessing.text import text_to_word_sequence, Tokenizer\n",
    "from keras.preprocessing.sequence import pad_sequences\n",
    "from keras.utils import to_categorical\n",
    "from keras.optimizers import Optimizer\n",
    "from keras import callbacks\n",
    "from keras.layers import Input, Dense, LSTM, Embedding, Dropout, BatchNormalization, Activation, Bidirectional,concatenate\n",
    "from keras.models import Model\n",
    "import matplotlib as mpl\n",
    "%matplotlib inline\n",
    "from matplotlib import pyplot as plt\n",
    "from keras.utils import plot_model \n",
    "from keras.optimizers import Adam\n",
    "from IPython.display import Image\n",
    "from sklearn.preprocessing import LabelEncoder\n",
    "from keras.utils import np_utils\n",
    "\n",
    "np.random.seed(17)\n",
    "\n",
    "\n",
    "import sys\n",
    "import csv\n",
    "from sklearn.ensemble import GradientBoostingClassifier\n",
    "from feature_engineering import refuting_features, polarity_features, hand_features, gen_or_load_feats\n",
    "from feature_engineering import word_overlap_features\n",
    "from utils.dataset import DataSet\n",
    "from utils.generate_test_splits import kfold_split, get_stances_for_folds\n",
    "from utils.score import report_score, LABELS, score_submission\n",
    "from csv import DictReader\n",
    "from csv import DictWriter\n",
    "import codecs\n",
    "\n",
    "from utils.system import parse_params, check_version"
   ]
  },
  {
   "cell_type": "markdown",
   "metadata": {},
   "source": [
    "# Load data"
   ]
  },
  {
   "cell_type": "code",
   "execution_count": 3,
   "metadata": {},
   "outputs": [],
   "source": [
    "#load data\n",
    "\n",
    "train_bodies = pd.read_csv('./fnc-1/train_bodies.csv')\n",
    "    \n",
    "train_stances = pd.read_csv('./fnc-1/train_stances.csv')\n",
    "\n",
    "test_bodies = pd.read_csv('./fnc-1/competition_test_bodies.csv')\n",
    "\n",
    "test_stances = pd.read_csv('./fnc-1/competition_test_stances.csv')"
   ]
  },
  {
   "cell_type": "markdown",
   "metadata": {},
   "source": [
    "# Handle the stance coloumn and merge by body id"
   ]
  },
  {
   "cell_type": "code",
   "execution_count": 4,
   "metadata": {},
   "outputs": [
    {
     "data": {
      "text/html": [
       "<div>\n",
       "<style scoped>\n",
       "    .dataframe tbody tr th:only-of-type {\n",
       "        vertical-align: middle;\n",
       "    }\n",
       "\n",
       "    .dataframe tbody tr th {\n",
       "        vertical-align: top;\n",
       "    }\n",
       "\n",
       "    .dataframe thead th {\n",
       "        text-align: right;\n",
       "    }\n",
       "</style>\n",
       "<table border=\"1\" class=\"dataframe\">\n",
       "  <thead>\n",
       "    <tr style=\"text-align: right;\">\n",
       "      <th></th>\n",
       "      <th>Headline</th>\n",
       "      <th>Body ID</th>\n",
       "      <th>Stance</th>\n",
       "      <th>articleBody</th>\n",
       "    </tr>\n",
       "  </thead>\n",
       "  <tbody>\n",
       "    <tr>\n",
       "      <th>0</th>\n",
       "      <td>Ferguson riots: Pregnant woman loses eye after...</td>\n",
       "      <td>2008</td>\n",
       "      <td>3</td>\n",
       "      <td>A RESPECTED senior French police officer inves...</td>\n",
       "    </tr>\n",
       "    <tr>\n",
       "      <th>1</th>\n",
       "      <td>Apple Stores to install safes to secure gold A...</td>\n",
       "      <td>2008</td>\n",
       "      <td>3</td>\n",
       "      <td>A RESPECTED senior French police officer inves...</td>\n",
       "    </tr>\n",
       "    <tr>\n",
       "      <th>2</th>\n",
       "      <td>Pregnant woman loses eye after police shoot be...</td>\n",
       "      <td>2008</td>\n",
       "      <td>3</td>\n",
       "      <td>A RESPECTED senior French police officer inves...</td>\n",
       "    </tr>\n",
       "    <tr>\n",
       "      <th>3</th>\n",
       "      <td>We just found out the #Ferguson Protester who ...</td>\n",
       "      <td>2008</td>\n",
       "      <td>3</td>\n",
       "      <td>A RESPECTED senior French police officer inves...</td>\n",
       "    </tr>\n",
       "    <tr>\n",
       "      <th>4</th>\n",
       "      <td>Police Chief In Charge of Paris Attacks Commit...</td>\n",
       "      <td>2008</td>\n",
       "      <td>2</td>\n",
       "      <td>A RESPECTED senior French police officer inves...</td>\n",
       "    </tr>\n",
       "    <tr>\n",
       "      <th>5</th>\n",
       "      <td>Ferguson protester shot in the eye with rubber...</td>\n",
       "      <td>2008</td>\n",
       "      <td>3</td>\n",
       "      <td>A RESPECTED senior French police officer inves...</td>\n",
       "    </tr>\n",
       "    <tr>\n",
       "      <th>6</th>\n",
       "      <td>Pregnant Ferguson woman loses her EYE after po...</td>\n",
       "      <td>2008</td>\n",
       "      <td>3</td>\n",
       "      <td>A RESPECTED senior French police officer inves...</td>\n",
       "    </tr>\n",
       "    <tr>\n",
       "      <th>7</th>\n",
       "      <td>Pregnant woman loses eye after Ferguson cops f...</td>\n",
       "      <td>2008</td>\n",
       "      <td>3</td>\n",
       "      <td>A RESPECTED senior French police officer inves...</td>\n",
       "    </tr>\n",
       "    <tr>\n",
       "      <th>8</th>\n",
       "      <td>Police officer in Charlie Hebdo investigation ...</td>\n",
       "      <td>2008</td>\n",
       "      <td>2</td>\n",
       "      <td>A RESPECTED senior French police officer inves...</td>\n",
       "    </tr>\n",
       "    <tr>\n",
       "      <th>9</th>\n",
       "      <td>Pregnant Woman Loses Eye During Ferguson Riots...</td>\n",
       "      <td>2008</td>\n",
       "      <td>3</td>\n",
       "      <td>A RESPECTED senior French police officer inves...</td>\n",
       "    </tr>\n",
       "  </tbody>\n",
       "</table>\n",
       "</div>"
      ],
      "text/plain": [
       "                                            Headline  Body ID  Stance  \\\n",
       "0  Ferguson riots: Pregnant woman loses eye after...     2008       3   \n",
       "1  Apple Stores to install safes to secure gold A...     2008       3   \n",
       "2  Pregnant woman loses eye after police shoot be...     2008       3   \n",
       "3  We just found out the #Ferguson Protester who ...     2008       3   \n",
       "4  Police Chief In Charge of Paris Attacks Commit...     2008       2   \n",
       "5  Ferguson protester shot in the eye with rubber...     2008       3   \n",
       "6  Pregnant Ferguson woman loses her EYE after po...     2008       3   \n",
       "7  Pregnant woman loses eye after Ferguson cops f...     2008       3   \n",
       "8  Police officer in Charlie Hebdo investigation ...     2008       2   \n",
       "9  Pregnant Woman Loses Eye During Ferguson Riots...     2008       3   \n",
       "\n",
       "                                         articleBody  \n",
       "0  A RESPECTED senior French police officer inves...  \n",
       "1  A RESPECTED senior French police officer inves...  \n",
       "2  A RESPECTED senior French police officer inves...  \n",
       "3  A RESPECTED senior French police officer inves...  \n",
       "4  A RESPECTED senior French police officer inves...  \n",
       "5  A RESPECTED senior French police officer inves...  \n",
       "6  A RESPECTED senior French police officer inves...  \n",
       "7  A RESPECTED senior French police officer inves...  \n",
       "8  A RESPECTED senior French police officer inves...  \n",
       "9  A RESPECTED senior French police officer inves...  "
      ]
     },
     "execution_count": 4,
     "metadata": {},
     "output_type": "execute_result"
    }
   ],
   "source": [
    "\n",
    "train_stances['Stance'].replace('agree',0,True)\n",
    "train_stances['Stance'].replace('disagree',1,True)\n",
    "train_stances['Stance'].replace('discuss',2,True)\n",
    "train_stances['Stance'].replace('unrelated',3,True)\n",
    "train_merge = pd.merge(train_stances, train_bodies, on='Body ID')\n",
    "\n",
    "\n",
    "\n",
    "\n",
    "test_stances['Stance'].replace('agree',0,True)\n",
    "test_stances['Stance'].replace('disagree',1,True)\n",
    "test_stances['Stance'].replace('discuss',2,True)\n",
    "test_stances['Stance'].replace('unrelated',3,True)\n",
    "\n",
    "test_merge = pd.merge(test_stances, test_bodies, on='Body ID')\n",
    "#train_merge.head(10)\n",
    "test_merge.head(10)"
   ]
  },
  {
   "cell_type": "code",
   "execution_count": 5,
   "metadata": {},
   "outputs": [],
   "source": [
    "MAX_SENT_LEN = 16\n",
    "MAX_VOCAB_SIZE = 50000\n",
    "LSTM_DIM = 100\n",
    "EMBEDDING_DIM = 50\n",
    "BATCH_SIZE = 128\n",
    "N_EPOCHS = 1\n",
    "MAX_SENT_LEN1 = 100\n",
    "MAX_VOCAB_SIZE1 = 50000\n",
    "\n",
    "\n",
    "train_merge['Headline'].head(10)\n",
    "\n",
    "test_merge['Headline'] = test_merge['Headline'].apply(lambda x: str(x))\n",
    "train_merge['Headline'] = train_merge['Headline'].apply(lambda x: str(x))\n",
    "\n",
    "test_merge['articleBody'] = test_merge['articleBody'].apply(lambda x: str(x))\n",
    "train_merge['articleBody'] = train_merge['articleBody'].apply(lambda x: str(x))\n",
    "\n",
    "\n",
    "train_merge = train_merge.sample(frac=1, random_state=10)\n",
    "\n",
    "\n",
    "word_seq_train_stances = [text_to_word_sequence(head) for head in train_merge['Headline']]\n",
    "word_seq_train_bodies = [text_to_word_sequence(body) for body in train_merge['articleBody']]\n",
    "\n",
    "\n",
    "\n",
    "word_seq_test_stances = [text_to_word_sequence(head) for head in test_merge['Headline']]\n",
    "word_seq_test_bodies = [text_to_word_sequence(body) for body in test_merge['articleBody']]"
   ]
  },
  {
   "cell_type": "markdown",
   "metadata": {},
   "source": [
    "# Create a list for embedding"
   ]
  },
  {
   "cell_type": "code",
   "execution_count": 6,
   "metadata": {},
   "outputs": [],
   "source": [
    "word_seq = []\n",
    "\n",
    "for i in range(len(word_seq_train_stances)):\n",
    "    word_seq.append(word_seq_train_stances[i])\n",
    "for i in range(len(word_seq_train_bodies)):\n",
    "    word_seq.append(word_seq_train_bodies[i])\n",
    "\n",
    "\n",
    "for i in range(len(word_seq_test_stances)):\n",
    "    word_seq.append(word_seq_test_stances[i])\n",
    "for i in range(len(word_seq_test_bodies)):\n",
    "    word_seq.append(word_seq_test_bodies[i])"
   ]
  },
  {
   "cell_type": "code",
   "execution_count": 8,
   "metadata": {},
   "outputs": [
    {
     "name": "stdout",
     "output_type": "stream",
     "text": [
      "75th Percentile Sentence Length: 13.0\n",
      "75th Percentile Sentence Length: 500.0\n"
     ]
    }
   ],
   "source": [
    "\n",
    "print('75th Percentile Sentence Length:', np.percentile([len(seq) for seq in word_seq_train_stances], 75))\n",
    "print('75th Percentile Sentence Length:', np.percentile([len(seq) for seq in word_seq_train_bodies], 75))\n"
   ]
  },
  {
   "cell_type": "markdown",
   "metadata": {},
   "source": [
    "# pass the words through tokenizer"
   ]
  },
  {
   "cell_type": "code",
   "execution_count": 9,
   "metadata": {},
   "outputs": [
    {
     "name": "stdout",
     "output_type": "stream",
     "text": [
      "Number of words in vocabulary: 37466\n"
     ]
    }
   ],
   "source": [
    "\n",
    "filter_list = '\\r\\t\\n'\n",
    "tokenizer = Tokenizer(num_words=MAX_VOCAB_SIZE,filters=filter_list)\n",
    "tokenizer.fit_on_texts([seq for seq in word_seq])\n",
    "print(\"Number of words in vocabulary:\", len(tokenizer.word_index))\n",
    "\n",
    "tokenizer.word_index\n",
    "\n",
    "X = tokenizer.texts_to_sequences([' '.join(seq[:MAX_SENT_LEN]) for seq in word_seq_train_stances])\n",
    "X = pad_sequences(X, maxlen=MAX_SENT_LEN, padding='post', truncating='post')\n"
   ]
  },
  {
   "cell_type": "code",
   "execution_count": 10,
   "metadata": {},
   "outputs": [],
   "source": [
    "\n",
    "\n",
    "tokenizer.word_index\n",
    "\n",
    "X1 = tokenizer.texts_to_sequences([' '.join(seq[:MAX_SENT_LEN1]) for seq in word_seq_train_bodies])\n",
    "X1 = pad_sequences(X1, maxlen=MAX_SENT_LEN1, padding='post', truncating='post')"
   ]
  },
  {
   "cell_type": "code",
   "execution_count": 11,
   "metadata": {},
   "outputs": [],
   "source": [
    "\n",
    "\n",
    "X_test_bodies = tokenizer.texts_to_sequences([' '.join(seq[:MAX_SENT_LEN1]) for seq in word_seq_test_bodies])\n",
    "X_test_bodies = pad_sequences(X_test_bodies, maxlen=MAX_SENT_LEN1, padding='post', truncating='post')"
   ]
  },
  {
   "cell_type": "code",
   "execution_count": 12,
   "metadata": {},
   "outputs": [],
   "source": [
    "\n",
    "\n",
    "X_test_stances = tokenizer.texts_to_sequences([' '.join(seq[:MAX_SENT_LEN]) for seq in word_seq_test_stances])\n",
    "X_test_stances = pad_sequences(X_test_stances, maxlen=MAX_SENT_LEN, padding='post', truncating='post')"
   ]
  },
  {
   "cell_type": "markdown",
   "metadata": {},
   "source": [
    "# Split train and validation data"
   ]
  },
  {
   "cell_type": "code",
   "execution_count": 13,
   "metadata": {},
   "outputs": [
    {
     "name": "stdout",
     "output_type": "stream",
     "text": [
      "(44975, 16)\n",
      "(44975, 100)\n",
      "(44975, 4)\n",
      "(4997, 16)\n",
      "(4997, 100)\n",
      "(4997, 4)\n"
     ]
    }
   ],
   "source": [
    "y = train_merge['Stance']\n",
    "\n",
    "encoder_train = LabelEncoder()\n",
    "encoder_train.fit(y)\n",
    "encoded_train = encoder_train.transform(y)\n",
    "# convert integers to dummy variables (i.e. one hot encoded)\n",
    "dummy_y_train = np_utils.to_categorical(encoded_train)\n",
    "\n",
    "y_test = test_merge['Stance']\n",
    "\n",
    "\n",
    "\n",
    "train_size =math.ceil( X.shape[0] * 0.9)\n",
    "train_size_end =math.ceil( X.shape[0] * 0.2)\n",
    "\n",
    "X_train = X[0:train_size]\n",
    "X1_train = X1[0:train_size]\n",
    "\n",
    "X_val = X[train_size:]\n",
    "X1_val = X1[train_size:]\n",
    "\n",
    "y_train = dummy_y_train[0:train_size]\n",
    "y_val = dummy_y_train[train_size:]\n",
    "\n",
    "print(X_train.shape)\n",
    "print(X1_train.shape)\n",
    "print(y_train.shape)\n",
    "\n",
    "print(X_val.shape)\n",
    "print(X1_val.shape)\n",
    "print(y_val.shape)"
   ]
  },
  {
   "cell_type": "markdown",
   "metadata": {},
   "source": [
    "# import Glove"
   ]
  },
  {
   "cell_type": "code",
   "execution_count": 14,
   "metadata": {},
   "outputs": [
    {
     "name": "stderr",
     "output_type": "stream",
     "text": [
      "D:\\anaconda\\lib\\site-packages\\gensim\\utils.py:1197: UserWarning: detected Windows; aliasing chunkize to chunkize_serial\n",
      "  warnings.warn(\"detected Windows; aliasing chunkize to chunkize_serial\")\n",
      "D:\\anaconda\\lib\\site-packages\\smart_open\\smart_open_lib.py:398: UserWarning: This function is deprecated, use smart_open.open instead. See the migration notes for details: https://github.com/RaRe-Technologies/smart_open/blob/master/README.rst#migrating-to-the-new-open-function\n",
      "  'See the migration notes for details: %s' % _MIGRATION_NOTES_URL\n"
     ]
    },
    {
     "data": {
      "text/plain": [
       "(1193514, 50)"
      ]
     },
     "execution_count": 14,
     "metadata": {},
     "output_type": "execute_result"
    }
   ],
   "source": [
    "from gensim.scripts.glove2word2vec import glove2word2vec\n",
    "from gensim.models.keyedvectors import KeyedVectors\n",
    "\n",
    "glove_input_file = 'd:/641/glove.twitter.27B.50d.txt'\n",
    "word2vec_output_file = 'glove.300d.txt.word2vec'\n",
    "glove2word2vec(glove_input_file, word2vec_output_file)\n",
    "\n"
   ]
  },
  {
   "cell_type": "code",
   "execution_count": 15,
   "metadata": {},
   "outputs": [],
   "source": [
    "# Create an embedding matrix containing only the word's in our vocabulary\n",
    "# If the word does not have a pre-trained embedding, then randomly initialize the embedding\n",
    "embeddings = KeyedVectors.load_word2vec_format(word2vec_output_file, binary=False)\n",
    "embeddings_matrix = np.random.uniform(-0.05, 0.05, size=(len(tokenizer.word_index)+1, EMBEDDING_DIM)) # +1 is because the matrix indices start with 0\n",
    "\n",
    "for word, i in tokenizer.word_index.items(): # i=0 is the embedding for the zero padding\n",
    "    try:\n",
    "        embeddings_vector = embeddings[word]\n",
    "    except KeyError:\n",
    "        embeddings_vector = None\n",
    "    if embeddings_vector is not None:\n",
    "        embeddings_matrix[i] = embeddings_vector\n",
    "        \n",
    "del embeddings"
   ]
  },
  {
   "cell_type": "markdown",
   "metadata": {},
   "source": [
    "# Generate conditional encoder layers"
   ]
  },
  {
   "cell_type": "code",
   "execution_count": 31,
   "metadata": {},
   "outputs": [],
   "source": [
    "headline_embedding_layer = Embedding(input_dim=len(tokenizer.word_index)+1,\n",
    "                          output_dim=EMBEDDING_DIM,\n",
    "                          weights = [embeddings_matrix], \n",
    "                          input_length=MAX_SENT_LEN,\n",
    "                          trainable=False, name='word_embedding_layer', #False\n",
    "                          mask_zero=True)\n",
    "\n",
    "article_embedding_layer = Embedding(input_dim=len(tokenizer.word_index)+1,\n",
    "                          output_dim=EMBEDDING_DIM,\n",
    "                          input_length=MAX_SENT_LEN1,\n",
    "                          weights = [embeddings_matrix], trainable=False, name='word_embedding_layer1', #False\n",
    "                          mask_zero=True)\n",
    "\n",
    "\n",
    "\n",
    "headline_input = Input(shape=(MAX_SENT_LEN,))\n",
    "embedded_headline = headline_embedding_layer(headline_input)\n",
    "headline_lstm = LSTM(LSTM_DIM, recurrent_dropout = 0.2, return_sequences = True, return_state = True)\n",
    "headline_outputs, state_h, state_c = headline_lstm(embedded_headline)\n",
    "\n",
    "encoder_states = [state_h, state_c]\n",
    "\n",
    "\n",
    "body_input = Input(shape=(MAX_SENT_LEN1,))\n",
    "embedded_body = article_embedding_layer(body_input)\n",
    "article_lstm = LSTM(LSTM_DIM, return_sequences = True)\n",
    "encoded_article = article_lstm(embedded_body,initial_state=encoder_states)\n"
   ]
  },
  {
   "cell_type": "markdown",
   "metadata": {},
   "source": [
    "# implementation of attetion layer"
   ]
  },
  {
   "cell_type": "code",
   "execution_count": 32,
   "metadata": {},
   "outputs": [],
   "source": [
    "from keras.engine.topology import Layer\n",
    "from keras import initializers, regularizers, constraints\n",
    "from keras import backend as K\n",
    "class Attention(Layer):\n",
    "    def __init__(self, step_dim = 116,\n",
    "                 W_regularizer=None, b_regularizer=None,\n",
    "                 W_constraint=None, b_constraint=None,\n",
    "                 bias=True, **kwargs):\n",
    "        \"\"\"\n",
    "        Keras Layer that implements an Attention mechanism for temporal data.\n",
    "        Supports Masking.\n",
    "        Follows the work of Raffel et al. [https://arxiv.org/abs/1512.08756]\n",
    "        # Input shape\n",
    "            3D tensor with shape: `(samples, steps, features)`.\n",
    "        # Output shape\n",
    "            2D tensor with shape: `(samples, features)`.\n",
    "        :param kwargs:\n",
    "        Just put it on top of an RNN Layer (GRU/LSTM/SimpleRNN) with return_sequences=True.\n",
    "        The dimensions are inferred based on the output shape of the RNN.\n",
    "        Example:\n",
    "            model.add(LSTM(64, return_sequences=True))\n",
    "            model.add(Attention())\n",
    "        \"\"\"\n",
    "        self.supports_masking = True\n",
    "        #self.init = initializations.get('glorot_uniform')\n",
    "        self.init = initializers.get('glorot_uniform')\n",
    "\n",
    "        self.W_regularizer = regularizers.get(W_regularizer)\n",
    "        self.b_regularizer = regularizers.get(b_regularizer)\n",
    "\n",
    "        self.W_constraint = constraints.get(W_constraint)\n",
    "        self.b_constraint = constraints.get(b_constraint)\n",
    "\n",
    "        self.bias = bias\n",
    "        self.step_dim = step_dim\n",
    "        self.features_dim = 0\n",
    "        super(Attention, self).__init__(**kwargs)\n",
    "\n",
    "    def build(self, input_shape):\n",
    "        print(input_shape)\n",
    "        assert len(input_shape) == 3\n",
    "\n",
    "        self.W = self.add_weight((input_shape[-1],),\n",
    "                                 initializer=self.init,\n",
    "                                 name='{}_W'.format(self.name),\n",
    "                                 regularizer=self.W_regularizer,\n",
    "                                 constraint=self.W_constraint)\n",
    "        self.features_dim = input_shape[-1]\n",
    "\n",
    "        if self.bias:\n",
    "            self.b = self.add_weight((input_shape[1],),\n",
    "                                     initializer='zero',\n",
    "                                     name='{}_b'.format(self.name),\n",
    "                                     regularizer=self.b_regularizer,\n",
    "                                     constraint=self.b_constraint)\n",
    "        else:\n",
    "            self.b = None\n",
    "\n",
    "        self.built = True\n",
    "\n",
    "    def compute_mask(self, input, input_mask=None):\n",
    "        # do not pass the mask to the next layers\n",
    "        return None\n",
    "\n",
    "    def call(self, x, mask=None):\n",
    "        # eij = K.dot(x, self.W) TF backend doesn't support it\n",
    "\n",
    "        # features_dim = self.W.shape[0]\n",
    "        # step_dim = x._keras_shape[1]\n",
    "\n",
    "        features_dim = self.features_dim\n",
    "        step_dim = self.step_dim\n",
    "\n",
    "        eij = K.reshape(K.dot(K.reshape(x, (-1, features_dim)), K.reshape(self.W, (features_dim, 1))), (-1, step_dim))\n",
    "\n",
    "        if self.bias:\n",
    "            eij += self.b\n",
    "\n",
    "        eij = K.tanh(eij)\n",
    "\n",
    "        a = K.exp(eij)\n",
    "\n",
    "        # apply mask after the exp. will be re-normalized next\n",
    "        if mask is not None:\n",
    "            # Cast the mask to floatX to avoid float64 upcasting in theano\n",
    "            a *= K.cast(mask, K.floatx())\n",
    "\n",
    "        # in some cases especially in the early stages of training the sum may be almost zero\n",
    "        a /= K.cast(K.sum(a, axis=1, keepdims=True) + K.epsilon(), K.floatx())\n",
    "\n",
    "        a = K.expand_dims(a)\n",
    "        weighted_input = x * a\n",
    "    #print weigthted_input.shape\n",
    "        return K.sum(weighted_input, axis=1)\n",
    "\n",
    "    def compute_output_shape(self, input_shape):\n",
    "        #return input_shape[0], input_shape[-1]\n",
    "        return input_shape[0],  self.features_dim\n",
    "        \n"
   ]
  },
  {
   "cell_type": "markdown",
   "metadata": {},
   "source": [
    "# add attention layer and dense layers"
   ]
  },
  {
   "cell_type": "code",
   "execution_count": 33,
   "metadata": {},
   "outputs": [
    {
     "name": "stdout",
     "output_type": "stream",
     "text": [
      "(None, 116, 100)\n"
     ]
    }
   ],
   "source": [
    "AttentionLayer = Attention()\n",
    "concatedInput = keras.layers.Concatenate(axis=1)([headline_outputs, encoded_article])\n",
    "attention_output = AttentionLayer(concatedInput)\n",
    "x = Dense(50 )(attention_output)\n",
    "dropout = Dropout(.2)(x)\n",
    "preds = Dense(4, activation='softmax')(dropout)"
   ]
  },
  {
   "cell_type": "code",
   "execution_count": 34,
   "metadata": {},
   "outputs": [],
   "source": [
    "from keras import optimizers\n",
    "model = Model(inputs=[ headline_input,body_input], outputs=preds)\n",
    "optimizer = optimizers.Adam(lr=0.001) # \n",
    "#add regularize\n",
    "model.compile(optimizer = optimizer,\n",
    "              loss='categorical_crossentropy',\n",
    "              metrics=['accuracy' ])\n",
    "\n",
    "filepath=\"Mask_Condition_Attention__epoch40_lr0.001_trainable_15Atlength_75_{epoch:02d}_{val_acc:.4f}.h5\"\n",
    "checkpoint = callbacks.ModelCheckpoint(filepath, \n",
    "                                       monitor='val_acc', \n",
    "                                       verbose=0, \n",
    "                                       save_best_only=True)\n",
    "\n",
    "callbacks_list = [checkpoint]\n",
    "\n",
    "\n"
   ]
  },
  {
   "cell_type": "code",
   "execution_count": 35,
   "metadata": {},
   "outputs": [
    {
     "data": {
      "image/png": "[encoded data removed]",
      "text/plain": [
       "<IPython.core.display.Image object>"
      ]
     },
     "execution_count": 35,
     "metadata": {},
     "output_type": "execute_result"
    }
   ],
   "source": [
    "plot_model(model, to_file='models/condition_attention_model.png', show_layer_names=True, show_shapes=True)\n",
    "Image('condition_attention_model.png')"
   ]
  },
  {
   "cell_type": "markdown",
   "metadata": {},
   "source": [
    "# Train model"
   ]
  },
  {
   "cell_type": "markdown",
   "metadata": {},
   "source": []
  },
  {
   "cell_type": "code",
   "execution_count": null,
   "metadata": {},
   "outputs": [],
   "source": [
    "history = model.fit(\n",
    "    [X_train, X1_train], y_train,\n",
    "    validation_data=([X_val, X1_val], y_val),\n",
    "    epochs=40, batch_size=BATCH_SIZE ,verbose = 1,callbacks = callbacks_list)"
   ]
  },
  {
   "cell_type": "markdown",
   "metadata": {},
   "source": [
    "# plot for accuracy and loss"
   ]
  },
  {
   "cell_type": "code",
   "execution_count": 27,
   "metadata": {},
   "outputs": [
    {
     "data": {
      "image/png": "[encoded data removed]",
      "text/plain": [
       "<Figure size 432x288 with 1 Axes>"
      ]
     },
     "metadata": {
      "needs_background": "light"
     },
     "output_type": "display_data"
    },
    {
     "data": {
      "image/png": "[encoded data removed]",
      "text/plain": [
       "<Figure size 432x288 with 1 Axes>"
      ]
     },
     "metadata": {
      "needs_background": "light"
     },
     "output_type": "display_data"
    }
   ],
   "source": [
    "\n",
    "plt.plot(history.history['acc'])\n",
    "plt.plot(history.history['val_acc'])\n",
    "plt.title('model accuracy')\n",
    "plt.ylabel('accuracy')\n",
    "plt.xlabel('epoch')\n",
    "plt.legend(['train', 'test'], loc='upper left')\n",
    "plt.show()\n",
    "\n",
    "plt.plot(history.history['loss'])\n",
    "plt.plot(history.history['val_loss'])\n",
    "plt.title('model loss')\n",
    "plt.ylabel('loss')\n",
    "plt.xlabel('epoch')\n",
    "plt.legend(['train', 'test'], loc='upper left')\n",
    "plt.show()"
   ]
  },
  {
   "cell_type": "markdown",
   "metadata": {},
   "source": [
    "# weighted score"
   ]
  },
  {
   "cell_type": "code",
   "execution_count": 37,
   "metadata": {},
   "outputs": [
    {
     "name": "stdout",
     "output_type": "stream",
     "text": [
      "-------------------------------------------------------------\n",
      "|           |   agree   | disagree  |  discuss  | unrelated |\n",
      "-------------------------------------------------------------\n",
      "|   agree   |    703    |    33     |    365    |    802    |\n",
      "-------------------------------------------------------------\n",
      "| disagree  |    196    |    25     |    102    |    374    |\n",
      "-------------------------------------------------------------\n",
      "|  discuss  |    689    |    39     |   2052    |   1684    |\n",
      "-------------------------------------------------------------\n",
      "| unrelated |   1094    |    42     |   1450    |   15763   |\n",
      "-------------------------------------------------------------\n",
      "Score: 7076.75 out of 11651.25\t(60.73811822765798%)\n"
     ]
    },
    {
     "data": {
      "text/plain": [
       "60.73811822765798"
      ]
     },
     "execution_count": 37,
     "metadata": {},
     "output_type": "execute_result"
    }
   ],
   "source": [
    "predicted = [LABELS[int(np.argmax(a, axis = -1))] for a in model.predict([X_test_stances,X_test_bodies])]\n",
    "\n",
    "actual = [LABELS[int(a)] for a in y_test]\n",
    "\n",
    "report_score(actual,predicted)"
   ]
  },
  {
   "cell_type": "code",
   "execution_count": 99,
   "metadata": {},
   "outputs": [
    {
     "name": "stdout",
     "output_type": "stream",
     "text": [
      "Reading dataset\n",
      "Total stances: 25413\n",
      "Total bodies: 904\n"
     ]
    }
   ],
   "source": [
    "competition_dataset = DataSet(\"competition_test\")\n",
    "stance_list = predicted\n",
    "\n",
    "df = pd.DataFrame(data ={'Headline': headline_list, 'Body ID':body_list, 'Stance':predicted})   \n",
    "df.to_csv('submission.csv', index=False, encoding='utf-8')"
   ]
  },
  {
   "cell_type": "code",
   "execution_count": 26,
   "metadata": {},
   "outputs": [],
   "source": [
    "b = test_stances['Body ID']\n",
    "h = test_stances['Headline']\n",
    "test = pd.DataFrame(data={'Headline': h, \"Body ID\": b, 'Stance': predicted})\n",
    "np.save(\"b\", b)\n",
    "np.save(\"h\", h)\n",
    "np.save(\"predicted\", predicted)\n",
    "test.to_csv(\"submission.csv\", index=False, encoding=\"utf-8\")"
   ]
  },
  {
   "cell_type": "code",
   "execution_count": null,
   "metadata": {},
   "outputs": [],
   "source": []
  }
 ],
 "metadata": {
  "kernelspec": {
   "display_name": "Python 3",
   "language": "python",
   "name": "python3"
  },
  "language_info": {
   "codemirror_mode": {
    "name": "ipython",
    "version": 3
   },
   "file_extension": ".py",
   "mimetype": "text/x-python",
   "name": "python",
   "nbconvert_exporter": "python",
   "pygments_lexer": "ipython3",
   "version": "3.6.6"
  }
 },
 "nbformat": 4,
 "nbformat_minor": 2
}
